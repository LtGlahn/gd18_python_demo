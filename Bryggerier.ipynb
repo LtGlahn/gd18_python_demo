{
 "cells": [
  {
   "cell_type": "markdown",
   "metadata": {},
   "source": [
    "## Les bryggeridata"
   ]
  },
  {
   "cell_type": "code",
   "execution_count": 1,
   "metadata": {},
   "outputs": [],
   "source": [
    "import json\n",
    "import shapely\n",
    "from shapely.geometry import asShape, shape"
   ]
  },
  {
   "cell_type": "code",
   "execution_count": 2,
   "metadata": {},
   "outputs": [
    {
     "name": "stdout",
     "output_type": "stream",
     "text": [
      "POINT (5.746142767034293 58.94570846949821)\n",
      "POINT (10.93189032774258 59.99209675567997)\n",
      "POINT (11.11239512048502 59.29057490401918)\n",
      "POINT (10.23138505977879 59.74216480250969)\n",
      "POINT (10.42700137022198 63.44091298857254)\n",
      "POINT (7.993930033407581 58.14454205074)\n",
      "POINT (7.979171369885761 58.14782034059565)\n",
      "POINT (10.21120833326642 59.7414731548904)\n",
      "POINT (10.74483330963815 59.91937024420984)\n",
      "POINT (10.7563746337984 59.93101542900136)\n",
      "POINT (7.107480454516267 60.85856031977224)\n",
      "POINT (10.3750363 63.42308775)\n",
      "POINT (7.50688916808432 60.59802349678374)\n",
      "POINT (11.18630429353732 63.86768807849006)\n",
      "POINT (11.0096643047558 59.24338027980776)\n",
      "POINT (9.187306565894565 62.0235404239768)\n",
      "POINT (10.06253535156395 61.54886516787159)\n",
      "POINT (10.25044027181518 59.78318054707483)\n",
      "POINT (5.914326512121155 59.06612504249627)\n"
     ]
    }
   ],
   "source": [
    "# åpne rett fil fra filsystemet\n",
    "with open('./data/osm_breweries_norway_08032018.geojson', 'r') as infile:\n",
    "    featurecollection = json.loads(infile.read().decode('utf-8-sig'))\n",
    "    \n",
    "    \n",
    "    #featurecollection = json.loads(infile.read())\n",
    "    #featurecollection = json.loads('{\"features\":[{\"geometry\": {\"type\": \"line\"}}]}')\n",
    "    #print featurecollection\n",
    "    for feature in featurecollection['features']:\n",
    "        if feature['geometry']['type'] != 'Point':\n",
    "            shape = asShape(feature['geometry'])\n",
    "            print shape.centroid\n",
    "    #        print feature"
   ]
  },
  {
   "cell_type": "code",
   "execution_count": null,
   "metadata": {},
   "outputs": [],
   "source": []
  },
  {
   "cell_type": "code",
   "execution_count": null,
   "metadata": {},
   "outputs": [],
   "source": []
  },
  {
   "cell_type": "code",
   "execution_count": null,
   "metadata": {},
   "outputs": [],
   "source": []
  },
  {
   "cell_type": "code",
   "execution_count": null,
   "metadata": {},
   "outputs": [],
   "source": []
  },
  {
   "cell_type": "code",
   "execution_count": null,
   "metadata": {},
   "outputs": [],
   "source": []
  },
  {
   "cell_type": "code",
   "execution_count": null,
   "metadata": {},
   "outputs": [],
   "source": []
  },
  {
   "cell_type": "code",
   "execution_count": null,
   "metadata": {},
   "outputs": [],
   "source": []
  }
 ],
 "metadata": {
  "kernelspec": {
   "display_name": "Python [conda env:gd18]",
   "language": "python",
   "name": "conda-env-gd18-py"
  },
  "language_info": {
   "codemirror_mode": {
    "name": "ipython",
    "version": 2
   },
   "file_extension": ".py",
   "mimetype": "text/x-python",
   "name": "python",
   "nbconvert_exporter": "python",
   "pygments_lexer": "ipython2",
   "version": "2.7.14"
  }
 },
 "nbformat": 4,
 "nbformat_minor": 2
}
